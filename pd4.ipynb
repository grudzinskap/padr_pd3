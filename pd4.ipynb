{
 "cells": [
  {
   "cell_type": "code",
   "execution_count": null,
   "metadata": {},
   "outputs": [],
   "source": [
    "%%cython \n",
    "\n",
    "import numpy as np\n",
    "cimport numpy as np\n",
    "cimport cython\n",
    "\n",
    "@cython.boundscheck(False)\n",
    "@cython.wraparound(False)\n",
    "\n",
    "def DFS(np.ndarray[int, ndim=2] G, v, np.ndarray[int, ndim=1] visited = np.array([],dtype=int)):\n",
    "    cdef int n = G.shape[0]\n",
    "    cdef np.ndarray[int, ndim=1] neighbors = G[v]\n",
    "\n",
    "    if len(visited) == 0:\n",
    "        visited = np.array([0]*n)\n",
    "        \n",
    "    visited[v] = 1\n",
    "    for u in np.where([neighbors != 0])[1]:\n",
    "        if visited[u] == 0:\n",
    "            DFS(G, u, visited)\n",
    "    return visited\n",
    "\n",
    "def Mnn_graph(np.ndarray[int, ndim=2] S):\n",
    "    cdef int n = S.shape[0]\n",
    "    cdef np.ndarray[int, ndim=2] G = np.array([0]*(n*n)).reshape(n,n)\n",
    "    cdef np.ndarray[int, ndim=1] si, sj\n",
    "    \n",
    "    for i in range(n):\n",
    "        si = S[i,:]\n",
    "        for j in range(i):\n",
    "            sj = S[j,:]\n",
    "            if len(si[si==j])==1 or len(sj[sj==i])==1:\n",
    "                G[i,j]=1\n",
    "                G[j,i]=1\n",
    "                \n",
    "    l = []             \n",
    "    cdef int t\n",
    "    cdef int p = 0\n",
    "    cdef np.ndarray[int, ndim=1] visited = DFS(G, p)\n",
    "    while not np.all(visited):\n",
    "        t = np.argmin(visited)\n",
    "        l.append((p,t))\n",
    "        p = t\n",
    "        visited = DFS(G, t, visited)\n",
    "    \n",
    "    for k in l:\n",
    "        G[k[0],k[1]]=1\n",
    "        G[k[1],k[0]]=1\n",
    "    \n",
    "    return G"
   ]
  }
 ],
 "metadata": {
  "kernelspec": {
   "display_name": "Python 3",
   "language": "python",
   "name": "python3"
  },
  "language_info": {
   "codemirror_mode": {
    "name": "ipython",
    "version": 3
   },
   "file_extension": ".py",
   "mimetype": "text/x-python",
   "name": "python",
   "nbconvert_exporter": "python",
   "pygments_lexer": "ipython3",
   "version": "3.7.0"
  }
 },
 "nbformat": 4,
 "nbformat_minor": 2
}
